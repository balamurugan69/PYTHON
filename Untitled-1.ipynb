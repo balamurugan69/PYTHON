{
 "cells": [
  {
   "cell_type": "code",
   "execution_count": 4,
   "metadata": {},
   "outputs": [
    {
     "name": "stdout",
     "output_type": "stream",
     "text": [
      "24\n"
     ]
    }
   ],
   "source": [
    "string = \"Guvi Geeks Network private limited\"\n",
    "vowels = \"aeiouaeiou\"\n",
    "\n",
    "count = sum(string.count(vowel) for vowel in vowels)\n",
    "print(count)"
   ]
  },
  {
   "cell_type": "code",
   "execution_count": null,
   "metadata": {},
   "outputs": [],
   "source": []
  },
  {
   "cell_type": "code",
   "execution_count": 19,
   "metadata": {},
   "outputs": [
    {
     "name": "stdout",
     "output_type": "stream",
     "text": [
      "\n",
      "After removing Vowels:  Gv Gks Ntwrk prvt lmtd\n"
     ]
    }
   ],
   "source": [
    "string = \"Guvi Geeks Network private limited\"\n",
    "\n",
    "vowels = ['a', 'e', 'i', 'o', 'u', 'A', 'E', 'I', 'O', 'U']\n",
    "result = \"\"\n",
    "\n",
    "for i in range(len(string)):\n",
    "    if string[i] not in vowels:\n",
    "        result = result + string[i]\n",
    "\n",
    "print(\"\\nAfter removing Vowels: \", result)"
   ]
  },
  {
   "cell_type": "code",
   "execution_count": 23,
   "metadata": {},
   "outputs": [
    {
     "name": "stdout",
     "output_type": "stream",
     "text": [
      "18\n"
     ]
    }
   ],
   "source": [
    "def cntDistinct(str):\n",
    "    count = {}\n",
    "    for i in range(len(str)):\n",
    "        if str[i] in count:\n",
    "            count[str[i]] += 1\n",
    "        else:\n",
    "            count[str[i]] = 1\n",
    "    return len(count)\n",
    "\n",
    "string = \"Guvi Geeks Network private limited\"\n",
    "ans = cntDistinct(string)\n",
    "print(ans)"
   ]
  },
  {
   "cell_type": "code",
   "execution_count": 24,
   "metadata": {},
   "outputs": [
    {
     "name": "stdout",
     "output_type": "stream",
     "text": [
      "Yes\n"
     ]
    }
   ],
   "source": [
    "def isPalindrome(s):\n",
    "    return s == s[::-1]\n",
    " \n",
    "s = \"malayalam\"\n",
    "ans = isPalindrome(s)\n",
    " \n",
    "if ans:\n",
    "    print(\"Yes\")\n",
    "else:\n",
    "    print(\"No\")"
   ]
  },
  {
   "cell_type": "code",
   "execution_count": 29,
   "metadata": {},
   "outputs": [],
   "source": [
    "def LCSubStr(s, t, n, m):\n",
    "   \n",
    "    \n",
    "    dp = [[0 for i in range(m + 1)] for j in range(2)]\n",
    "    res = 0\n",
    "     \n",
    "    for i in range(1,n + 1):\n",
    "        for j in range(1,m + 1):\n",
    "            if(s[i - 1] == t[j - 1]):\n",
    "                dp[i % 2][j] = dp[(i - 1) % 2][j - 1] + 1\n",
    "                if(dp[i % 2][j] > res):\n",
    "                    res = dp[i % 2][j]\n",
    "            else:\n",
    "                dp[i % 2][j] = 0\n",
    "    return res"
   ]
  },
  {
   "cell_type": "code",
   "execution_count": 30,
   "metadata": {},
   "outputs": [
    {
     "name": "stdout",
     "output_type": "stream",
     "text": [
      "['e', 4]\n"
     ]
    }
   ],
   "source": [
    "def func(str):\n",
    "    max=[str[0],str.count(str[0])]\n",
    "    for i in str:\n",
    "        if str.count(i)>max[1]:\n",
    "            max[0]=i \n",
    "            max[1]=str.count(i)\n",
    " \n",
    "    return(max)           \n",
    " \n",
    "str=\"geeksforgeeks\"\n",
    "print(func(str))"
   ]
  }
 ],
 "metadata": {
  "kernelspec": {
   "display_name": "Python 3",
   "language": "python",
   "name": "python3"
  },
  "language_info": {
   "codemirror_mode": {
    "name": "ipython",
    "version": 3
   },
   "file_extension": ".py",
   "mimetype": "text/x-python",
   "name": "python",
   "nbconvert_exporter": "python",
   "pygments_lexer": "ipython3",
   "version": "3.12.2"
  }
 },
 "nbformat": 4,
 "nbformat_minor": 2
}
